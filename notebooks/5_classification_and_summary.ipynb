{
 "cells": [
  {
   "cell_type": "code",
   "execution_count": 3,
   "id": "139d08ef",
   "metadata": {},
   "outputs": [
    {
     "name": "stdout",
     "output_type": "stream",
     "text": [
      "Classification Report:\n",
      "\n",
      "              precision    recall  f1-score   support\n",
      "\n",
      "           0       0.93      0.98      0.95       414\n",
      "           1       0.93      0.80      0.86       151\n",
      "\n",
      "    accuracy                           0.93       565\n",
      "   macro avg       0.93      0.89      0.91       565\n",
      "weighted avg       0.93      0.93      0.93       565\n",
      "\n",
      "Confusion Matrix:\n",
      "\n",
      "[[405   9]\n",
      " [ 30 121]]\n",
      "\n",
      "Top Predicted High-Value Customers (sample):\n",
      "      CUSTOMERNAME     SALES\n",
      "598             81  1.000000\n",
      "744             60  0.886307\n",
      "53              33  0.846934\n",
      "1062            33  0.838611\n",
      "104             86  0.838523\n",
      "1995            52  0.827722\n",
      "44              55  0.819193\n",
      "1133            56  0.798091\n",
      "188             58  0.793863\n",
      "30              31  0.772857\n"
     ]
    }
   ],
   "source": [
    "import pandas as pd\n",
    "import numpy as np\n",
    "from sklearn.model_selection import train_test_split\n",
    "from sklearn.tree import DecisionTreeClassifier\n",
    "from sklearn.metrics import classification_report, confusion_matrix\n",
    "\n",
    "df = pd.read_csv(\"../data/cleaned_sales_data.csv\")\n",
    "\n",
    "threshold = np.percentile(df['SALES'], 75)\n",
    "df['HIGH_VALUE'] = (df['SALES'] >= threshold).astype(int)\n",
    "\n",
    "features = [\n",
    "    'QUANTITYORDERED', 'PRICEEACH', 'ORDERLINENUMBER',\n",
    "    'QTR_ID', 'MONTH_ID', 'YEAR_ID', 'PRODUCTLINE',\n",
    "    'CUSTOMERNAME', 'COUNTRY', 'DEALSIZE'\n",
    "]\n",
    "X = df[features]\n",
    "y = df['HIGH_VALUE']\n",
    "\n",
    "X_train, X_test, y_train, y_test = train_test_split(\n",
    "    X, y, test_size=0.2, random_state=42\n",
    ")\n",
    "\n",
    "clf = DecisionTreeClassifier(max_depth=5, random_state=42)\n",
    "clf.fit(X_train, y_train)\n",
    "\n",
    "y_pred = clf.predict(X_test)\n",
    "print(\"Classification Report:\\n\")\n",
    "print(classification_report(y_test, y_pred))\n",
    "\n",
    "print(\"Confusion Matrix:\\n\")\n",
    "print(confusion_matrix(y_test, y_pred))\n",
    "\n",
    "df['PREDICTED_HIGH_VALUE'] = clf.predict(X)\n",
    "\n",
    "top_customers = df[df['PREDICTED_HIGH_VALUE'] == 1][['CUSTOMERNAME', 'SALES']]\n",
    "top_customers = top_customers.sort_values(by='SALES', ascending=False)\n",
    "\n",
    "print(\"\\nTop Predicted High-Value Customers (sample):\")\n",
    "print(top_customers.head(10))\n",
    "\n",
    "# top_customers.to_csv(\"predicted_high_value_customers.csv\", index=False)\n"
   ]
  }
 ],
 "metadata": {
  "kernelspec": {
   "display_name": "base",
   "language": "python",
   "name": "python3"
  },
  "language_info": {
   "codemirror_mode": {
    "name": "ipython",
    "version": 3
   },
   "file_extension": ".py",
   "mimetype": "text/x-python",
   "name": "python",
   "nbconvert_exporter": "python",
   "pygments_lexer": "ipython3",
   "version": "3.9.12"
  }
 },
 "nbformat": 4,
 "nbformat_minor": 5
}
